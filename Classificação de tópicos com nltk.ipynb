{
 "cells": [
  {
   "cell_type": "markdown",
   "id": "037f42fe",
   "metadata": {},
   "source": [
    "# A seguinte uma classificação de tópicos utilizando NLP e machine learning para o teste técnico da NeuralMED"
   ]
  },
  {
   "cell_type": "markdown",
   "id": "142be4f6",
   "metadata": {},
   "source": [
    "# Importação de bibliotecas"
   ]
  },
  {
   "cell_type": "code",
   "execution_count": null,
   "id": "a996e316",
   "metadata": {},
   "outputs": [],
   "source": [
    "from nltk import word_tokenize\n",
    "import nltk\n",
    "import re\n",
    "import pandas as pd\n",
    "from sklearn.feature_extraction.text import CountVectorizer\n",
    "from sklearn import svm\n",
    "from sklearn import metrics\n",
    "from nltk.tokenize import TweetTokenizer"
   ]
  },
  {
   "cell_type": "code",
   "execution_count": null,
   "id": "754eed1b",
   "metadata": {},
   "outputs": [],
   "source": [
    "df = pd.read_csv('TweetsNeutralHash.csv', encoding='utf-8')"
   ]
  },
  {
   "cell_type": "markdown",
   "id": "0e46459f",
   "metadata": {},
   "source": [
    "# Tokenizador de texto específico para twitter"
   ]
  },
  {
   "cell_type": "code",
   "execution_count": null,
   "id": "83151ffd",
   "metadata": {},
   "outputs": [],
   "source": [
    "tweet_tokenizer = TweetTokenizer()"
   ]
  },
  {
   "cell_type": "markdown",
   "id": "d85754a9",
   "metadata": {},
   "source": [
    "# Funções de préprocessamento dos dados"
   ]
  },
  {
   "cell_type": "code",
   "execution_count": null,
   "id": "3a02633b",
   "metadata": {},
   "outputs": [],
   "source": [
    "def removestopwords(texto):\n",
    "    stopwords = set(nltk.corpus.stopwords.words('portuguese'))\n",
    "    palavras = [i for i in texto if not i in stopwords]\n",
    "    return (palavras)"
   ]
  },
  {
   "cell_type": "code",
   "execution_count": null,
   "id": "0605025e",
   "metadata": {},
   "outputs": [],
   "source": [
    "def clean_data(texto):\n",
    "    texto = re.sub(r'http\\S+', '', texto).lower().replace('.', '').replace(';', '').replace(',', '')\n",
    "    return texto"
   ]
  },
  {
   "cell_type": "code",
   "execution_count": null,
   "id": "d3c8ce16",
   "metadata": {},
   "outputs": [],
   "source": [
    "def processar_texto(texto):\n",
    "    texto = clean_data(texto)\n",
    "    texto_tokenizado = tweet_tokenizer.tokenize(texto)\n",
    "    texto_tokenizado = removestopwords(texto_tokenizado)\n",
    "    return (\" \".join(texto_tokenizado))"
   ]
  },
  {
   "cell_type": "code",
   "execution_count": null,
   "id": "1833cc4e",
   "metadata": {},
   "outputs": [],
   "source": [
    "tweets = df['tweet_text']"
   ]
  },
  {
   "cell_type": "code",
   "execution_count": null,
   "id": "5b26fb61",
   "metadata": {},
   "outputs": [],
   "source": [
    "tweets.head()"
   ]
  },
  {
   "cell_type": "code",
   "execution_count": null,
   "id": "95d1ba3c",
   "metadata": {},
   "outputs": [],
   "source": [
    "tweets = [processar_texto(tweet) for tweet in tweets]"
   ]
  },
  {
   "cell_type": "code",
   "execution_count": null,
   "id": "157d81c7",
   "metadata": {},
   "outputs": [],
   "source": [
    "assunto = df['query_used'].replace('#','')\n",
    "assunto"
   ]
  },
  {
   "cell_type": "markdown",
   "id": "0b1e6f04",
   "metadata": {},
   "source": [
    "# Vetorizando os textos para alimentar o modelo de machine learning"
   ]
  },
  {
   "cell_type": "code",
   "execution_count": 61,
   "id": "af750765",
   "metadata": {},
   "outputs": [],
   "source": [
    "matriz = CountVectorizer(max_features=1000)\n",
    "vetores = matriz.fit_transform(tweets).toarray()"
   ]
  },
  {
   "cell_type": "code",
   "execution_count": 64,
   "id": "ddb2e3e4",
   "metadata": {},
   "outputs": [],
   "source": [
    "from sklearn.model_selection import train_test_split\n",
    "vetores_train, vetores_test, topicos_train, topicos_test = train_test_split(vetores, assunto) "
   ]
  },
  {
   "cell_type": "markdown",
   "id": "2e71d42a",
   "metadata": {},
   "source": [
    "# Criando o modelo de machine learning (Naive Bayes)"
   ]
  },
  {
   "cell_type": "code",
   "execution_count": 65,
   "id": "d017a70b",
   "metadata": {},
   "outputs": [
    {
     "data": {
      "text/html": [
       "<style>#sk-container-id-1 {color: black;background-color: white;}#sk-container-id-1 pre{padding: 0;}#sk-container-id-1 div.sk-toggleable {background-color: white;}#sk-container-id-1 label.sk-toggleable__label {cursor: pointer;display: block;width: 100%;margin-bottom: 0;padding: 0.3em;box-sizing: border-box;text-align: center;}#sk-container-id-1 label.sk-toggleable__label-arrow:before {content: \"▸\";float: left;margin-right: 0.25em;color: #696969;}#sk-container-id-1 label.sk-toggleable__label-arrow:hover:before {color: black;}#sk-container-id-1 div.sk-estimator:hover label.sk-toggleable__label-arrow:before {color: black;}#sk-container-id-1 div.sk-toggleable__content {max-height: 0;max-width: 0;overflow: hidden;text-align: left;background-color: #f0f8ff;}#sk-container-id-1 div.sk-toggleable__content pre {margin: 0.2em;color: black;border-radius: 0.25em;background-color: #f0f8ff;}#sk-container-id-1 input.sk-toggleable__control:checked~div.sk-toggleable__content {max-height: 200px;max-width: 100%;overflow: auto;}#sk-container-id-1 input.sk-toggleable__control:checked~label.sk-toggleable__label-arrow:before {content: \"▾\";}#sk-container-id-1 div.sk-estimator input.sk-toggleable__control:checked~label.sk-toggleable__label {background-color: #d4ebff;}#sk-container-id-1 div.sk-label input.sk-toggleable__control:checked~label.sk-toggleable__label {background-color: #d4ebff;}#sk-container-id-1 input.sk-hidden--visually {border: 0;clip: rect(1px 1px 1px 1px);clip: rect(1px, 1px, 1px, 1px);height: 1px;margin: -1px;overflow: hidden;padding: 0;position: absolute;width: 1px;}#sk-container-id-1 div.sk-estimator {font-family: monospace;background-color: #f0f8ff;border: 1px dotted black;border-radius: 0.25em;box-sizing: border-box;margin-bottom: 0.5em;}#sk-container-id-1 div.sk-estimator:hover {background-color: #d4ebff;}#sk-container-id-1 div.sk-parallel-item::after {content: \"\";width: 100%;border-bottom: 1px solid gray;flex-grow: 1;}#sk-container-id-1 div.sk-label:hover label.sk-toggleable__label {background-color: #d4ebff;}#sk-container-id-1 div.sk-serial::before {content: \"\";position: absolute;border-left: 1px solid gray;box-sizing: border-box;top: 0;bottom: 0;left: 50%;z-index: 0;}#sk-container-id-1 div.sk-serial {display: flex;flex-direction: column;align-items: center;background-color: white;padding-right: 0.2em;padding-left: 0.2em;position: relative;}#sk-container-id-1 div.sk-item {position: relative;z-index: 1;}#sk-container-id-1 div.sk-parallel {display: flex;align-items: stretch;justify-content: center;background-color: white;position: relative;}#sk-container-id-1 div.sk-item::before, #sk-container-id-1 div.sk-parallel-item::before {content: \"\";position: absolute;border-left: 1px solid gray;box-sizing: border-box;top: 0;bottom: 0;left: 50%;z-index: -1;}#sk-container-id-1 div.sk-parallel-item {display: flex;flex-direction: column;z-index: 1;position: relative;background-color: white;}#sk-container-id-1 div.sk-parallel-item:first-child::after {align-self: flex-end;width: 50%;}#sk-container-id-1 div.sk-parallel-item:last-child::after {align-self: flex-start;width: 50%;}#sk-container-id-1 div.sk-parallel-item:only-child::after {width: 0;}#sk-container-id-1 div.sk-dashed-wrapped {border: 1px dashed gray;margin: 0 0.4em 0.5em 0.4em;box-sizing: border-box;padding-bottom: 0.4em;background-color: white;}#sk-container-id-1 div.sk-label label {font-family: monospace;font-weight: bold;display: inline-block;line-height: 1.2em;}#sk-container-id-1 div.sk-label-container {text-align: center;}#sk-container-id-1 div.sk-container {/* jupyter's `normalize.less` sets `[hidden] { display: none; }` but bootstrap.min.css set `[hidden] { display: none !important; }` so we also need the `!important` here to be able to override the default hidden behavior on the sphinx rendered scikit-learn.org. See: https://github.com/scikit-learn/scikit-learn/issues/21755 */display: inline-block !important;position: relative;}#sk-container-id-1 div.sk-text-repr-fallback {display: none;}</style><div id=\"sk-container-id-1\" class=\"sk-top-container\"><div class=\"sk-text-repr-fallback\"><pre>GaussianNB()</pre><b>In a Jupyter environment, please rerun this cell to show the HTML representation or trust the notebook. <br />On GitHub, the HTML representation is unable to render, please try loading this page with nbviewer.org.</b></div><div class=\"sk-container\" hidden><div class=\"sk-item\"><div class=\"sk-estimator sk-toggleable\"><input class=\"sk-toggleable__control sk-hidden--visually\" id=\"sk-estimator-id-1\" type=\"checkbox\" checked><label for=\"sk-estimator-id-1\" class=\"sk-toggleable__label sk-toggleable__label-arrow\">GaussianNB</label><div class=\"sk-toggleable__content\"><pre>GaussianNB()</pre></div></div></div></div></div>"
      ],
      "text/plain": [
       "GaussianNB()"
      ]
     },
     "execution_count": 65,
     "metadata": {},
     "output_type": "execute_result"
    }
   ],
   "source": [
    "from sklearn.naive_bayes import GaussianNB\n",
    "classifier = GaussianNB()\n",
    "classifier.fit(vetores_train, topicos_train)"
   ]
  },
  {
   "cell_type": "code",
   "execution_count": 66,
   "id": "7d39a243",
   "metadata": {},
   "outputs": [],
   "source": [
    "topicos_pred = classifier.predict(vetores_test)"
   ]
  },
  {
   "cell_type": "markdown",
   "id": "f1ba361a",
   "metadata": {},
   "source": [
    "# Métricas de precisão"
   ]
  },
  {
   "cell_type": "code",
   "execution_count": 67,
   "id": "d8723f49",
   "metadata": {},
   "outputs": [
    {
     "name": "stdout",
     "output_type": "stream",
     "text": [
      "               precision    recall  f1-score   support\n",
      "\n",
      " #curiosidade       0.10      0.68      0.18       130\n",
      "        #fato       0.92      0.57      0.70      1392\n",
      "     #noticia       0.65      0.68      0.66       437\n",
      "    #novidade       0.47      0.82      0.59       330\n",
      "#oportunidade       0.80      0.90      0.85       715\n",
      "    #trabalho       0.81      0.33      0.47       928\n",
      "\n",
      "     accuracy                           0.61      3932\n",
      "    macro avg       0.62      0.66      0.58      3932\n",
      " weighted avg       0.78      0.61      0.64      3932\n",
      "\n"
     ]
    }
   ],
   "source": [
    "from sklearn.metrics import classification_report\n",
    "print(classification_report(topicos_test, topicos_pred))"
   ]
  }
 ],
 "metadata": {
  "kernelspec": {
   "display_name": "Python 3 (ipykernel)",
   "language": "python",
   "name": "python3"
  },
  "language_info": {
   "codemirror_mode": {
    "name": "ipython",
    "version": 3
   },
   "file_extension": ".py",
   "mimetype": "text/x-python",
   "name": "python",
   "nbconvert_exporter": "python",
   "pygments_lexer": "ipython3",
   "version": "3.10.9"
  }
 },
 "nbformat": 4,
 "nbformat_minor": 5
}
